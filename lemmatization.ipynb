{
 "cells": [
  {
   "cell_type": "code",
   "id": "initial_id",
   "metadata": {
    "collapsed": true,
    "ExecuteTime": {
     "end_time": "2024-05-14T17:55:22.134170Z",
     "start_time": "2024-05-14T17:55:21.065920Z"
    }
   },
   "source": [
    "import pandas as pd\n",
    "from itertools import chain\n",
    "from pymystem3 import Mystem\n",
    "from ai.nn.data.datasets import ListDataset, ApplyPreprocessors, to_list_dataset\n",
    "from ai.nn.data.preprocessors import RemoveEmojis, RemoveHTML, RemoveSymbols\n",
    "from joblib import Parallel, delayed"
   ],
   "outputs": [],
   "execution_count": 1
  },
  {
   "metadata": {
    "ExecuteTime": {
     "end_time": "2024-05-14T17:55:27.966389Z",
     "start_time": "2024-05-14T17:55:22.135232Z"
    }
   },
   "cell_type": "code",
   "source": [
    "data = pd.read_excel(\"data.xlsx\")[\"snippet.textOriginal\"]\n",
    "data.dropna(inplace=True)"
   ],
   "id": "bfc09cc3edc2af7d",
   "outputs": [],
   "execution_count": 2
  },
  {
   "metadata": {
    "ExecuteTime": {
     "end_time": "2024-05-14T17:55:27.969820Z",
     "start_time": "2024-05-14T17:55:27.966923Z"
    }
   },
   "cell_type": "code",
   "source": [
    "default_preprocessors = [\n",
    "    RemoveEmojis(),\n",
    "    RemoveHTML(),\n",
    "    RemoveSymbols([\"\\\\t\", \"\\\\r\", \"\\a\", \"\\b\", \"\\f\", \"\\t\", \"\\v\", \"\\r\", \"\\n\", \"\\\\n\", \"/\",\n",
    "                   \"\\\\a\", \"\\\\b\", \"\\\\f\", \"\\\\t\", \"\\\\v\", \"\\\\r\", \"//\", \"\\\\\",\n",
    "                   \"[\", \"]\", \"\\\"\", \"`\", \"\\n\"])\n",
    "]"
   ],
   "id": "b196f503979c3eed",
   "outputs": [],
   "execution_count": 3
  },
  {
   "metadata": {
    "ExecuteTime": {
     "end_time": "2024-05-14T17:55:28.162080Z",
     "start_time": "2024-05-14T17:55:27.970323Z"
    }
   },
   "cell_type": "code",
   "source": [
    "dataset = ApplyPreprocessors(ListDataset(list(data)), default_preprocessors)\n",
    "comments = to_list_dataset(dataset).array"
   ],
   "id": "234fec150070bce0",
   "outputs": [],
   "execution_count": 4
  },
  {
   "metadata": {
    "ExecuteTime": {
     "end_time": "2024-05-14T17:55:28.165859Z",
     "start_time": "2024-05-14T17:55:28.163253Z"
    }
   },
   "cell_type": "code",
   "source": [
    "BATCH_SIZE = 1024\n",
    "comments_batched = [comments[i: i + BATCH_SIZE] for i in range(0, len(comments), BATCH_SIZE)]"
   ],
   "id": "ec7a8161cfd1b28b",
   "outputs": [],
   "execution_count": 5
  },
  {
   "metadata": {
    "ExecuteTime": {
     "end_time": "2024-05-14T17:55:28.173836Z",
     "start_time": "2024-05-14T17:55:28.166431Z"
    }
   },
   "cell_type": "code",
   "source": [
    "def lemmatize_batch(batch):\n",
    "    stem = Mystem()\n",
    "    return [''.join(stem.lemmatize(text)) for text in batch]"
   ],
   "id": "a4ddce951827f0fc",
   "outputs": [],
   "execution_count": 6
  },
  {
   "metadata": {
    "ExecuteTime": {
     "end_time": "2024-05-14T17:55:37.925975Z",
     "start_time": "2024-05-14T17:55:28.174643Z"
    }
   },
   "cell_type": "code",
   "source": "processed = Parallel(n_jobs=3)(delayed(lemmatize_batch)(batch) for batch in comments_batched)",
   "id": "1047811307ac20de",
   "outputs": [],
   "execution_count": 7
  },
  {
   "metadata": {
    "ExecuteTime": {
     "end_time": "2024-05-14T17:55:37.930996Z",
     "start_time": "2024-05-14T17:55:37.927277Z"
    }
   },
   "cell_type": "code",
   "source": "processed = list(chain(*processed))",
   "id": "76cdfd8ab960a4a5",
   "outputs": [],
   "execution_count": 8
  },
  {
   "metadata": {
    "ExecuteTime": {
     "end_time": "2024-05-14T17:55:37.943756Z",
     "start_time": "2024-05-14T17:55:37.931678Z"
    }
   },
   "cell_type": "code",
   "source": [
    "_lemmas = pd.DataFrame(processed)\n",
    "_lemmas.columns = [\"lemmas\"]\n",
    "_lemmas.index = data.index"
   ],
   "id": "b1c0902eac675812",
   "outputs": [],
   "execution_count": 9
  },
  {
   "metadata": {
    "ExecuteTime": {
     "end_time": "2024-05-14T17:55:43.428977Z",
     "start_time": "2024-05-14T17:55:37.944501Z"
    }
   },
   "cell_type": "code",
   "source": "full_data = pd.read_excel(\"data.xlsx\")",
   "id": "7b49cd7e32e04a78",
   "outputs": [],
   "execution_count": 10
  },
  {
   "metadata": {
    "ExecuteTime": {
     "end_time": "2024-05-14T17:55:43.443496Z",
     "start_time": "2024-05-14T17:55:43.429591Z"
    }
   },
   "cell_type": "code",
   "source": "full_data = pd.merge(full_data, _lemmas, left_index=True, right_index=True, how=\"outer\")",
   "id": "387113fc533ae3f0",
   "outputs": [],
   "execution_count": 11
  },
  {
   "metadata": {
    "ExecuteTime": {
     "end_time": "2024-05-14T17:55:55.096106Z",
     "start_time": "2024-05-14T17:55:43.444279Z"
    }
   },
   "cell_type": "code",
   "source": "full_data.to_excel(\"processed.xlsx\")",
   "id": "786bb47515ba7ed3",
   "outputs": [],
   "execution_count": 12
  },
  {
   "metadata": {
    "ExecuteTime": {
     "end_time": "2024-05-14T17:55:55.097846Z",
     "start_time": "2024-05-14T17:55:55.096627Z"
    }
   },
   "cell_type": "code",
   "source": "",
   "id": "7de241902c2d3dcc",
   "outputs": [],
   "execution_count": 12
  },
  {
   "metadata": {
    "ExecuteTime": {
     "end_time": "2024-05-14T17:55:55.100009Z",
     "start_time": "2024-05-14T17:55:55.098670Z"
    }
   },
   "cell_type": "code",
   "source": "",
   "id": "4cb5748a7b6ecc79",
   "outputs": [],
   "execution_count": 12
  }
 ],
 "metadata": {
  "kernelspec": {
   "display_name": "Python 3",
   "language": "python",
   "name": "python3"
  },
  "language_info": {
   "codemirror_mode": {
    "name": "ipython",
    "version": 2
   },
   "file_extension": ".py",
   "mimetype": "text/x-python",
   "name": "python",
   "nbconvert_exporter": "python",
   "pygments_lexer": "ipython2",
   "version": "2.7.6"
  }
 },
 "nbformat": 4,
 "nbformat_minor": 5
}
